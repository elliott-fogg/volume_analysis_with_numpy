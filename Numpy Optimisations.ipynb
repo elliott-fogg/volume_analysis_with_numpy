{
 "cells": [
  {
   "cell_type": "markdown",
   "metadata": {},
   "source": [
    "# Counting particles inside a volume with Numpy optimisations"
   ]
  },
  {
   "cell_type": "code",
   "execution_count": 1,
   "metadata": {
    "ExecuteTime": {
     "end_time": "2021-11-02T23:02:32.291537Z",
     "start_time": "2021-11-02T23:02:31.957013Z"
    }
   },
   "outputs": [],
   "source": [
    "import numpy as np\n",
    "import time"
   ]
  },
  {
   "cell_type": "markdown",
   "metadata": {},
   "source": [
    "## Overviewing components"
   ]
  },
  {
   "cell_type": "code",
   "execution_count": 2,
   "metadata": {
    "ExecuteTime": {
     "end_time": "2021-11-02T23:02:32.306838Z",
     "start_time": "2021-11-02T23:02:32.294476Z"
    }
   },
   "outputs": [],
   "source": [
    "# Set Test Parameters\n",
    "n_values = 10\n",
    "n_particles = 5\n",
    "volume_limits = [[0.0, 0.4, 0.3],\n",
    "                 [0.6, 1.0, 0.9]]"
   ]
  },
  {
   "cell_type": "code",
   "execution_count": 3,
   "metadata": {
    "ExecuteTime": {
     "end_time": "2021-11-02T23:02:32.338869Z",
     "start_time": "2021-11-02T23:02:32.310841Z"
    }
   },
   "outputs": [
    {
     "data": {
      "text/plain": [
       "array([ 0, 10, 20, 30, 40, 50, 60, 70, 80, 90])"
      ]
     },
     "execution_count": 3,
     "metadata": {},
     "output_type": "execute_result"
    }
   ],
   "source": [
    "# Construct Array of Time Points\n",
    "time_array = np.asarray(range(n_values))*10\n",
    "time_array"
   ]
  },
  {
   "cell_type": "code",
   "execution_count": 4,
   "metadata": {
    "ExecuteTime": {
     "end_time": "2021-11-02T23:02:32.354797Z",
     "start_time": "2021-11-02T23:02:32.340827Z"
    }
   },
   "outputs": [
    {
     "data": {
      "text/plain": [
       "array([[[0.56332216, 0.04929785, 0.85601641],\n",
       "        [0.94219262, 0.64248388, 0.68361535],\n",
       "        [0.22298487, 0.41120873, 0.54625255],\n",
       "        [0.02640222, 0.8359959 , 0.60301224],\n",
       "        [0.06217176, 0.64088751, 0.33746286]],\n",
       "\n",
       "       [[0.13173725, 0.8869279 , 0.18751819],\n",
       "        [0.5746025 , 0.96260179, 0.92663087],\n",
       "        [0.78024811, 0.9147324 , 0.3273662 ],\n",
       "        [0.93278141, 0.61557231, 0.43459998],\n",
       "        [0.33786739, 0.3545003 , 0.76818211]],\n",
       "\n",
       "       [[0.2845357 , 0.03570368, 0.93436926],\n",
       "        [0.60163903, 0.60687898, 0.70585675],\n",
       "        [0.84581434, 0.26307685, 0.86913245],\n",
       "        [0.55454815, 0.81865447, 0.35217878],\n",
       "        [0.12130464, 0.50462143, 0.12340973]],\n",
       "\n",
       "       [[0.74626417, 0.90349853, 0.06912401],\n",
       "        [0.69140675, 0.00267858, 0.34399927],\n",
       "        [0.48764542, 0.32707927, 0.91068599],\n",
       "        [0.82409355, 0.056215  , 0.93957332],\n",
       "        [0.2006405 , 0.40242333, 0.27495607]],\n",
       "\n",
       "       [[0.56089684, 0.3479281 , 0.94187986],\n",
       "        [0.69384505, 0.93284909, 0.70346411],\n",
       "        [0.59785267, 0.43521116, 0.4877145 ],\n",
       "        [0.38835731, 0.92002256, 0.6063622 ],\n",
       "        [0.08767977, 0.30350764, 0.13152701]],\n",
       "\n",
       "       [[0.11475666, 0.7786306 , 0.87099312],\n",
       "        [0.4236518 , 0.673729  , 0.89510541],\n",
       "        [0.15295554, 0.45995129, 0.33724043],\n",
       "        [0.78090663, 0.22247195, 0.6021546 ],\n",
       "        [0.48459232, 0.59660691, 0.9975235 ]],\n",
       "\n",
       "       [[0.6204802 , 0.19568056, 0.9799085 ],\n",
       "        [0.10560676, 0.19569135, 0.34605486],\n",
       "        [0.15236369, 0.67048855, 0.46795644],\n",
       "        [0.05152438, 0.35834707, 0.0135661 ],\n",
       "        [0.37948502, 0.49811603, 0.22391203]],\n",
       "\n",
       "       [[0.03910115, 0.60993802, 0.11152163],\n",
       "        [0.28844783, 0.56422373, 0.17336796],\n",
       "        [0.55377285, 0.90028619, 0.19175939],\n",
       "        [0.59534104, 0.3441137 , 0.74588091],\n",
       "        [0.50553583, 0.76320398, 0.20458492]],\n",
       "\n",
       "       [[0.62331898, 0.82216999, 0.51006136],\n",
       "        [0.74222134, 0.54956007, 0.82889111],\n",
       "        [0.68914207, 0.30997828, 0.89457027],\n",
       "        [0.62386172, 0.07773664, 0.03644375],\n",
       "        [0.96108074, 0.43496043, 0.06817401]],\n",
       "\n",
       "       [[0.98128907, 0.05783771, 0.82232424],\n",
       "        [0.31739036, 0.95632912, 0.65719821],\n",
       "        [0.50038881, 0.86192661, 0.16707649],\n",
       "        [0.39072321, 0.56662795, 0.65870243],\n",
       "        [0.51214952, 0.2817682 , 0.94628318]]])"
      ]
     },
     "execution_count": 4,
     "metadata": {},
     "output_type": "execute_result"
    }
   ],
   "source": [
    "# Construct Array of Spatial Coordinates for particles at each time point\n",
    "space_values = np.random.rand(n_values, n_particles, 3)\n",
    "space_values"
   ]
  },
  {
   "cell_type": "code",
   "execution_count": 5,
   "metadata": {
    "ExecuteTime": {
     "end_time": "2021-11-02T23:02:32.370748Z",
     "start_time": "2021-11-02T23:02:32.358784Z"
    }
   },
   "outputs": [
    {
     "data": {
      "text/plain": [
       "array([[False, False,  True,  True,  True],\n",
       "       [False, False, False, False, False],\n",
       "       [False, False, False,  True, False],\n",
       "       [False, False, False, False, False],\n",
       "       [False, False,  True,  True, False],\n",
       "       [ True,  True,  True, False, False],\n",
       "       [False, False,  True, False, False],\n",
       "       [False, False, False, False, False],\n",
       "       [False, False, False, False, False],\n",
       "       [False,  True, False,  True, False]])"
      ]
     },
     "execution_count": 5,
     "metadata": {},
     "output_type": "execute_result"
    }
   ],
   "source": [
    "# Check whether each particle is within the volume limits at each time point\n",
    "particles_inside = ((space_values >= volume_limits[0]) & (space_values <= volume_limits[1])).all(axis=2)\n",
    "particles_inside"
   ]
  },
  {
   "cell_type": "code",
   "execution_count": 6,
   "metadata": {
    "ExecuteTime": {
     "end_time": "2021-11-02T23:02:32.386705Z",
     "start_time": "2021-11-02T23:02:32.372764Z"
    }
   },
   "outputs": [
    {
     "data": {
      "text/plain": [
       "array([3, 0, 1, 0, 2, 3, 1, 0, 0, 2])"
      ]
     },
     "execution_count": 6,
     "metadata": {},
     "output_type": "execute_result"
    }
   ],
   "source": [
    "# Count how many particles are inside the volume for each time point\n",
    "num_particles_inside = particles_inside.sum(axis=1)\n",
    "num_particles_inside"
   ]
  },
  {
   "cell_type": "code",
   "execution_count": 7,
   "metadata": {
    "ExecuteTime": {
     "end_time": "2021-11-02T23:02:32.402216Z",
     "start_time": "2021-11-02T23:02:32.388700Z"
    }
   },
   "outputs": [
    {
     "data": {
      "text/plain": [
       "(array([0, 2, 4, 5, 6, 9], dtype=int64),)"
      ]
     },
     "execution_count": 7,
     "metadata": {},
     "output_type": "execute_result"
    }
   ],
   "source": [
    "# Get indices for times with nonzero particles\n",
    "nonzero_indices = num_particles_inside.nonzero()\n",
    "nonzero_indices"
   ]
  },
  {
   "cell_type": "code",
   "execution_count": 8,
   "metadata": {
    "ExecuteTime": {
     "end_time": "2021-11-02T23:02:32.418178Z",
     "start_time": "2021-11-02T23:02:32.409207Z"
    }
   },
   "outputs": [
    {
     "data": {
      "text/plain": [
       "array([ 0, 20, 40, 50, 60, 90])"
      ]
     },
     "execution_count": 8,
     "metadata": {},
     "output_type": "execute_result"
    }
   ],
   "source": [
    "# Get times with nonzero particles\n",
    "valid_times = time_array[nonzero_indices]\n",
    "valid_times"
   ]
  },
  {
   "cell_type": "code",
   "execution_count": 9,
   "metadata": {
    "ExecuteTime": {
     "end_time": "2021-11-02T23:02:32.434316Z",
     "start_time": "2021-11-02T23:02:32.421172Z"
    }
   },
   "outputs": [
    {
     "data": {
      "text/plain": [
       "array([3, 1, 2, 3, 1, 2])"
      ]
     },
     "execution_count": 9,
     "metadata": {},
     "output_type": "execute_result"
    }
   ],
   "source": [
    "# Extract numbers of particles for times with nonzero particles\n",
    "valid_num_particles = num_particles_inside[num_particles_inside != 0]\n",
    "valid_num_particles"
   ]
  },
  {
   "cell_type": "code",
   "execution_count": 10,
   "metadata": {
    "ExecuteTime": {
     "end_time": "2021-11-02T23:02:32.450133Z",
     "start_time": "2021-11-02T23:02:32.436131Z"
    }
   },
   "outputs": [
    {
     "data": {
      "text/plain": [
       "array([(array([0, 2, 4, 5, 6, 9], dtype=int64),),\n",
       "       array([ 0, 20, 40, 50, 60, 90]), array([3, 1, 2, 3, 1, 2])],\n",
       "      dtype=object)"
      ]
     },
     "execution_count": 10,
     "metadata": {},
     "output_type": "execute_result"
    }
   ],
   "source": [
    "# Put into final array (with additional indices array just for reference)\n",
    "output = np.asarray([nonzero_indices, valid_times, valid_num_particles])\n",
    "output"
   ]
  },
  {
   "cell_type": "markdown",
   "metadata": {},
   "source": [
    "## Speed Testing"
   ]
  },
  {
   "cell_type": "code",
   "execution_count": 11,
   "metadata": {
    "ExecuteTime": {
     "end_time": "2021-11-02T23:02:32.466050Z",
     "start_time": "2021-11-02T23:02:32.454084Z"
    }
   },
   "outputs": [],
   "source": [
    "volume_limits = [[0.0, 0.5, 0.3],\n",
    "                 [0.4, 1.0, 0.8]]\n",
    "\n",
    "\n",
    "def construct_input_array(n_times, n_particles):\n",
    "    time_array = np.asarray(range(n_values))*10\n",
    "    space_values = np.random.rand(n_values, n_particles, 3)\n",
    "    return (time_array, space_values)\n",
    "\n",
    "\n",
    "# Function as outlined above, using the numpy optimisations\n",
    "def numpy_way(time_array, space_values):\n",
    "    particles_inside = ((space_values >= volume_limits[0]) & (space_values <= volume_limits[1])).all(axis=2)\n",
    "    num_particles_inside = particles_inside.sum(axis=1)\n",
    "    nonzero_indices = num_particles_inside.nonzero()\n",
    "    valid_times = time_array[nonzero_indices]\n",
    "    valid_num_particles = num_particles_inside[num_particles_inside != 0]\n",
    "    output = np.asarray([nonzero_indices, valid_times, valid_num_particles])\n",
    "    return output\n",
    "\n",
    "\n",
    "# Function as I would have originally done it, without Numpy optimisations\n",
    "def python_way(time_array, space_values):\n",
    "    valid_indices = []\n",
    "    valid_particle_counts = []\n",
    "    valid_times = []\n",
    "    for index in range(len(space_values)):\n",
    "        num_particles = 0\n",
    "        for p in space_values[index]:\n",
    "            in_volume = True\n",
    "            for d in range(3):\n",
    "                if ((p[d] < volume_limits[0][d]) or (p[d] > volume_limits[1][d])):\n",
    "                    in_volume = False\n",
    "                    break\n",
    "            if in_volume:\n",
    "                num_particles += 1\n",
    "            \n",
    "        if num_particles > 0:\n",
    "            valid_indices.append(index)\n",
    "            valid_particle_counts.append(num_particles)\n",
    "            \n",
    "    for index in valid_indices:\n",
    "        valid_times.append(time_array[index])\n",
    "        \n",
    "    output = np.asarray([valid_indices, valid_times, valid_particle_counts])\n",
    "    return output"
   ]
  },
  {
   "cell_type": "code",
   "execution_count": 12,
   "metadata": {
    "ExecuteTime": {
     "end_time": "2021-11-02T23:02:32.482033Z",
     "start_time": "2021-11-02T23:02:32.468046Z"
    }
   },
   "outputs": [
    {
     "name": "stdout",
     "output_type": "stream",
     "text": [
      "Python Way:\n",
      " [[ 0  1  3  7  8  9]\n",
      " [ 0 10 30 70 80 90]\n",
      " [ 3  1  1  1  1  2]]\n",
      "Numpy Way:\n",
      " [(array([0, 1, 3, 7, 8, 9], dtype=int64),) array([ 0, 10, 30, 70, 80, 90])\n",
      " array([3, 1, 1, 1, 1, 2])]\n"
     ]
    }
   ],
   "source": [
    "# Test to make sure the outputs are the same\n",
    "input_array = construct_input_array(10, 10)\n",
    "print(\"Python Way:\\n\", python_way(*input_array))\n",
    "print(\"Numpy Way:\\n\", numpy_way(*input_array))"
   ]
  },
  {
   "cell_type": "code",
   "execution_count": 13,
   "metadata": {
    "ExecuteTime": {
     "end_time": "2021-11-02T23:02:42.231873Z",
     "start_time": "2021-11-02T23:02:32.484001Z"
    }
   },
   "outputs": [
    {
     "name": "stdout",
     "output_type": "stream",
     "text": [
      "time values: 10e3, num particles: 10e3\n",
      "Python: 1.60e-02 seconds\n",
      "Numpy: 9.96e-04 seconds\n",
      "\n",
      "time values: 10e3, num particles: 10e4\n",
      "Python: 1.26e-01 seconds\n",
      "Numpy: 3.99e-03 seconds\n",
      "\n",
      "time values: 10e3, num particles: 10e5\n",
      "Python: 1.30e+00 seconds\n",
      "Numpy: 3.29e-02 seconds\n",
      "\n",
      "time values: 10e4, num particles: 10e3\n",
      "Python: 1.40e-02 seconds\n",
      "Numpy: 9.98e-04 seconds\n",
      "\n",
      "time values: 10e4, num particles: 10e4\n",
      "Python: 1.14e-01 seconds\n",
      "Numpy: 2.99e-03 seconds\n",
      "\n",
      "time values: 10e4, num particles: 10e5\n",
      "Python: 1.34e+00 seconds\n",
      "Numpy: 3.79e-02 seconds\n",
      "\n",
      "time values: 10e5, num particles: 10e3\n",
      "Python: 1.19e-02 seconds\n",
      "Numpy: 0.00e+00 seconds\n",
      "\n",
      "time values: 10e5, num particles: 10e4\n",
      "Python: 1.51e-01 seconds\n",
      "Numpy: 2.99e-03 seconds\n",
      "\n",
      "time values: 10e5, num particles: 10e5\n",
      "Python: 1.25e+00 seconds\n",
      "Numpy: 3.09e-02 seconds\n",
      "\n",
      "time values: 10e6, num particles: 10e3\n",
      "Python: 9.97e-03 seconds\n",
      "Numpy: 0.00e+00 seconds\n",
      "\n",
      "time values: 10e6, num particles: 10e4\n",
      "Python: 1.07e-01 seconds\n",
      "Numpy: 2.99e-03 seconds\n",
      "\n",
      "time values: 10e6, num particles: 10e5\n",
      "Python: 1.12e+00 seconds\n",
      "Numpy: 3.40e-02 seconds\n",
      "\n",
      "time values: 10e7, num particles: 10e3\n",
      "Python: 1.39e-02 seconds\n",
      "Numpy: 0.00e+00 seconds\n",
      "\n",
      "time values: 10e7, num particles: 10e4\n",
      "Python: 1.27e-01 seconds\n",
      "Numpy: 3.00e-03 seconds\n",
      "\n",
      "time values: 10e7, num particles: 10e5\n",
      "Python: 1.20e+00 seconds\n",
      "Numpy: 2.99e-02 seconds\n",
      "\n",
      "time values: 10e8, num particles: 10e3\n",
      "Python: 9.97e-03 seconds\n",
      "Numpy: 9.98e-04 seconds\n",
      "\n",
      "time values: 10e8, num particles: 10e4\n",
      "Python: 1.09e-01 seconds\n",
      "Numpy: 3.00e-03 seconds\n",
      "\n",
      "time values: 10e8, num particles: 10e5\n",
      "Python: 1.04e+00 seconds\n",
      "Numpy: 2.79e-02 seconds\n",
      "\n",
      "time values: 10e9, num particles: 10e3\n",
      "Python: 9.97e-03 seconds\n",
      "Numpy: 0.00e+00 seconds\n",
      "\n",
      "time values: 10e9, num particles: 10e4\n",
      "Python: 1.05e-01 seconds\n",
      "Numpy: 3.00e-03 seconds\n",
      "\n",
      "time values: 10e9, num particles: 10e5\n",
      "Python: 1.09e+00 seconds\n",
      "Numpy: 3.29e-02 seconds\n",
      "\n"
     ]
    }
   ],
   "source": [
    "# Run time test over valid values\n",
    "for t in range(3, 10):\n",
    "    for p in range(3, 6):\n",
    "        time_count = 10 ** t\n",
    "        particle_count = 10 ** p\n",
    "        print(f\"time values: 10e{t}, num particles: 10e{p}\")\n",
    "        input_array = construct_input_array(time_count, particle_count)\n",
    "        t1 = time.time()\n",
    "        python_way(*input_array)\n",
    "        t2 = time.time()\n",
    "        numpy_way(*input_array)\n",
    "        t3 = time.time()\n",
    "        print(f\"Python: {t2-t1:.2e} seconds\")\n",
    "        print(f\"Numpy: {t3-t2:.2e} seconds\\n\")"
   ]
  },
  {
   "cell_type": "code",
   "execution_count": null,
   "metadata": {},
   "outputs": [],
   "source": []
  }
 ],
 "metadata": {
  "kernelspec": {
   "display_name": "Python 3",
   "language": "python",
   "name": "python3"
  },
  "language_info": {
   "codemirror_mode": {
    "name": "ipython",
    "version": 3
   },
   "file_extension": ".py",
   "mimetype": "text/x-python",
   "name": "python",
   "nbconvert_exporter": "python",
   "pygments_lexer": "ipython3",
   "version": "3.7.6"
  },
  "toc": {
   "base_numbering": 1,
   "nav_menu": {},
   "number_sections": true,
   "sideBar": true,
   "skip_h1_title": true,
   "title_cell": "Table of Contents",
   "title_sidebar": "Contents",
   "toc_cell": false,
   "toc_position": {},
   "toc_section_display": true,
   "toc_window_display": true
  }
 },
 "nbformat": 4,
 "nbformat_minor": 4
}
